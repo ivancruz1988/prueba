{
  "nbformat": 4,
  "nbformat_minor": 0,
  "metadata": {
    "colab": {
      "provenance": [],
      "include_colab_link": true
    },
    "kernelspec": {
      "name": "python3",
      "display_name": "Python 3"
    },
    "language_info": {
      "name": "python"
    }
  },
  "cells": [
    {
      "cell_type": "markdown",
      "metadata": {
        "id": "view-in-github",
        "colab_type": "text"
      },
      "source": [
        "<a href=\"https://colab.research.google.com/github/ivancruz1988/prueba/blob/main/Libreria_random.ipynb\" target=\"_parent\"><img src=\"https://colab.research.google.com/assets/colab-badge.svg\" alt=\"Open In Colab\"/></a>"
      ]
    },
    {
      "cell_type": "markdown",
      "source": [
        "**Ejercicio: Adivina el número**\n",
        "\n",
        "**Descripción:**  \n",
        "La computadora ha pensado en un número secreto entre 1 y 10. Tu tarea es adivinarlo. Solo tienes una oportunidad para acertar.\n",
        "\n",
        "**Instrucciones:**  \n",
        "1. La computadora elegirá un número al azar entre 1 y 10.  \n",
        "2. Tú debes escribir un número que creas que es el correcto.  \n",
        "3. Si aciertas, ¡felicidades! Si no, la computadora te dirá cuál era el número correcto.  \n",
        "4. Puedes jugar varias veces para mejorar tu precisión.  \n",
        "\n",
        "**Objetivo:**  \n",
        "Desarrollar habilidades en programación utilizando variables, entrada y salida de datos, números aleatorios y estructuras condicionales.  \n",
        "🎯🚀"
      ],
      "metadata": {
        "id": "4x2Zhkmptzzs"
      }
    },
    {
      "cell_type": "code",
      "source": [
        "import random #libreria para  generar numeros aleatorios\n",
        "\n",
        "# La computadora elige un número al azar\n",
        "numero_secreto = random.randint(1, 10)# Esta linea genera un numero al azar\n",
        "\n",
        "print(\"¡Bienvenido al juego de adivinar el número!\")\n",
        "print(\"Estoy pensando en un número entre 1 y 10. ¿Puedes adivinar cuál es?\")\n",
        "\n",
        "# El niño ingresa su intento\n",
        "intento = int(input(\"Escribe tu número: \"))\n",
        "\n",
        "# Comprobamos si acertó\n",
        "if intento == numero_secreto:\n",
        "    print(\"¡Felicitaciones! Adivinaste el número.\")\n",
        "else:\n",
        "    print(f\"No es correcto. El número era {numero_secreto}. ¡Intenta de nuevo!\")\n",
        "\n"
      ],
      "metadata": {
        "id": "mvWFiSYWt5BW"
      },
      "execution_count": null,
      "outputs": []
    },
    {
      "cell_type": "markdown",
      "source": [
        "La librería `random` en Python te permite trabajar con números aleatorios, lo que es útil para juegos, simulaciones y experimentos estadísticos. Aquí te dejo algunas de sus funciones más usadas:\n",
        "\n",
        "### 🔹 Generar números aleatorios:\n",
        "- `random.randint(a, b)`: Devuelve un número entero aleatorio entre `a` y `b`, incluyendo ambos.\n",
        "  ```python\n",
        "  import random\n",
        "  print(random.randint(1, 10))  # Un número entre 1 y 10\n",
        "  ```\n",
        "\n",
        "- `random.uniform(a, b)`: Devuelve un número decimal aleatorio entre `a` y `b`.\n",
        "  ```python\n",
        "  print(random.uniform(1.5, 5.5))  # Un número decimal entre 1.5 y 5.5\n",
        "  ```\n",
        "\n",
        "### 🔹 Trabajar con listas:\n",
        "- `random.choice(lista)`: Selecciona un elemento al azar de una lista.\n",
        "  ```python\n",
        "  colores = [\"rojo\", \"azul\", \"verde\"]\n",
        "  print(random.choice(colores))  # Muestra un color al azar\n",
        "  ```\n",
        "\n",
        "- `random.shuffle(lista)`: Mezcla aleatoriamente los elementos de una lista.\n",
        "  ```python\n",
        "  numeros = [1, 2, 3, 4, 5]\n",
        "  random.shuffle(numeros)\n",
        "  print(numeros)  # La lista estará mezclada\n",
        "  ```\n",
        "\n",
        "### 🔹 Generar números aleatorios avanzados:\n",
        "- `random.random()`: Devuelve un número decimal aleatorio entre `0` y `1`.\n",
        "  ```python\n",
        "  print(random.random())  # Un número entre 0 y 1\n",
        "  ```\n",
        "\n",
        "- `random.sample(lista, n)`: Devuelve una muestra aleatoria de `n` elementos sin repetición.\n",
        "  ```python\n",
        "  numeros = [1, 2, 3, 4, 5, 6, 7, 8, 9]\n",
        "  print(random.sample(numeros, 3))  # Selecciona 3 números diferentes\n",
        "  ```\n",
        "\n",
        "La librería `random` es muy útil para hacer juegos, simulaciones y tareas que necesiten aleatoriedad. ¿Quieres que te ayude a hacer un ejercicio usando alguna de estas funciones? 🚀\n"
      ],
      "metadata": {
        "id": "PLit0Ie8u8YG"
      }
    }
  ]
}