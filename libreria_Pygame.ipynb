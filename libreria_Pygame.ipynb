{
  "nbformat": 4,
  "nbformat_minor": 0,
  "metadata": {
    "colab": {
      "provenance": [],
      "authorship_tag": "ABX9TyOd2eqwLOd/HHR3qjj4xFhG",
      "include_colab_link": true
    },
    "kernelspec": {
      "name": "python3",
      "display_name": "Python 3"
    },
    "language_info": {
      "name": "python"
    }
  },
  "cells": [
    {
      "cell_type": "markdown",
      "metadata": {
        "id": "view-in-github",
        "colab_type": "text"
      },
      "source": [
        "<a href=\"https://colab.research.google.com/github/ivancruz1988/prueba/blob/main/libreria_Pygame.ipynb\" target=\"_parent\"><img src=\"https://colab.research.google.com/assets/colab-badge.svg\" alt=\"Open In Colab\"/></a>"
      ]
    },
    {
      "cell_type": "markdown",
      "source": [
        "¡Claro! **Pygame** es una excelente librería para hacer videojuegos y gráficos en Python. Aquí te explico algunos comandos básicos y cómo usarlos con ejemplos:\n",
        "\n",
        "### 🏁 **Inicializar Pygame**\n",
        "Antes de usar Pygame, hay que **inicializarlo**:\n",
        "```python\n",
        "import pygame\n",
        "\n",
        "pygame.init()  # Activa la librería Pygame\n",
        "```\n",
        "✅ Esto es necesario antes de empezar cualquier juego.\n",
        "\n",
        "---\n",
        "\n",
        "### 🎮 **Crear una ventana de juego**\n",
        "Para mostrar gráficos, primero hay que crear una **ventana**:\n",
        "```python\n",
        "screen = pygame.display.set_mode((500, 400))  # Tamaño: 500x400 píxeles\n",
        "pygame.display.set_caption(\"Mi primer juego\")  # Título de la ventana\n",
        "```\n",
        "✅ Esto crea una pantalla donde podemos dibujar y mostrar elementos.\n",
        "\n",
        "---\n",
        "\n",
        "### 🟠 **Elegir colores**\n",
        "Pygame usa **colores en formato RGB** (Rojo, Verde, Azul):\n",
        "```python\n",
        "ROJO = (255, 0, 0)   # Máximo rojo\n",
        "VERDE = (0, 255, 0)  # Máximo verde\n",
        "AZUL = (0, 0, 255)   # Máximo azul\n",
        "BLANCO = (255, 255, 255)  # Blanco\n",
        "NEGRO = (0, 0, 0)    # Negro\n",
        "```\n",
        "✅ Se usan para pintar formas y fondo.\n",
        "\n",
        "---\n",
        "\n",
        "### 🖍️ **Dibujar un círculo**\n",
        "Para hacer dibujos en la pantalla:\n",
        "```python\n",
        "pygame.draw.circle(screen, ROJO, (250, 200), 50)  # Un círculo rojo\n",
        "```\n",
        "✅ Esto dibuja un **círculo rojo** en el centro de la ventana con un radio de **50 píxeles**.\n",
        "\n",
        "---\n",
        "\n",
        "### 🔄 **Actualizar la pantalla**\n",
        "Para ver los cambios en la ventana:\n",
        "```python\n",
        "pygame.display.flip()  # Actualiza la pantalla con los nuevos dibujos\n",
        "```\n",
        "✅ Esto refresca la ventana con lo que hemos dibujado.\n",
        "\n",
        "---\n",
        "\n",
        "### ⏳ **Controlar el tiempo**\n",
        "Si quieres controlar la velocidad de actualización:\n",
        "```python\n",
        "clock = pygame.time.Clock()\n",
        "clock.tick(30)  # Máximo 30 cuadros por segundo\n",
        "```\n",
        "✅ Esto **limita la velocidad** del juego para que no vaya demasiado rápido.\n",
        "\n",
        "---\n",
        "\n",
        "### ❌ **Cerrar la ventana**\n",
        "Para que el programa no se quede congelado:\n",
        "```python\n",
        "running = True\n",
        "while running:\n",
        "    for event in pygame.event.get():\n",
        "        if event.type == pygame.QUIT:  # Si se cierra la ventana\n",
        "            running = False\n",
        "pygame.quit()  # Finaliza Pygame\n",
        "```\n",
        "✅ Esto hace que el juego se cierre cuando el jugador presione el botón de salida.\n",
        "\n",
        "---\n",
        "\n",
        "🔹 Con estos comandos básicos, puedes empezar a hacer **juegos sencillos**, como mover un personaje o dibujar objetos. ¿Te gustaría armar un pequeño juego juntos? 🎮🚀\n"
      ],
      "metadata": {
        "id": "S3pUUN8QBD_r"
      }
    },
    {
      "cell_type": "code",
      "source": [
        "import pygame\n",
        "\n",
        "# Inicializar Pygame\n",
        "pygame.init()\n",
        "\n",
        "# Configurar la pantalla\n",
        "ANCHO, ALTO = 500, 400\n",
        "screen = pygame.display.set_mode((ANCHO, ALTO))\n",
        "pygame.display.set_caption(\"Juego de mover el círculo\")\n",
        "\n",
        "# Definir colores\n",
        "ROJO = (255, 0, 0)\n",
        "BLANCO = (255, 255, 255)\n",
        "\n",
        "# Posición inicial del círculo\n",
        "x, y = ANCHO // 2, ALTO // 2\n",
        "radio = 30\n",
        "\n",
        "# Control de tiempo\n",
        "clock = pygame.time.Clock()\n",
        "\n",
        "# Bucle principal del juego\n",
        "running = True\n",
        "while running:\n",
        "    screen.fill(BLANCO)  # Fondo blanco\n",
        "\n",
        "    # Manejar eventos\n",
        "    for event in pygame.event.get():\n",
        "        if event.type == pygame.QUIT:\n",
        "            running = False\n",
        "\n",
        "    # Capturar teclas para mover el círculo\n",
        "    keys = pygame.key.get_pressed()\n",
        "    if keys[pygame.K_LEFT]:  # Flecha izquierda\n",
        "        x -= 5\n",
        "    if keys[pygame.K_RIGHT]:  # Flecha derecha\n",
        "        x += 5\n",
        "    if keys[pygame.K_UP]:  # Flecha arriba\n",
        "        y -= 5\n",
        "    if keys[pygame.K_DOWN]:  # Flecha abajo\n",
        "        y += 5\n",
        "\n",
        "    # Dibujar el círculo\n",
        "    pygame.draw.circle(screen, ROJO, (x, y), radio)\n",
        "\n",
        "    pygame.display.flip()  # Actualizar pantalla\n",
        "    clock.tick(30)  # Controlar FPS\n",
        "\n",
        "pygame.quit()  # Cerrar Pygame\n"
      ],
      "metadata": {
        "colab": {
          "base_uri": "https://localhost:8080/",
          "height": 245
        },
        "id": "_qDM743OBF36",
        "outputId": "d8c8a66f-0c98-40c7-9189-7684f2996e21"
      },
      "execution_count": null,
      "outputs": [
        {
          "output_type": "stream",
          "name": "stdout",
          "text": [
            "pygame 2.6.1 (SDL 2.28.4, Python 3.11.12)\n",
            "Hello from the pygame community. https://www.pygame.org/contribute.html\n"
          ]
        },
        {
          "output_type": "error",
          "ename": "KeyboardInterrupt",
          "evalue": "",
          "traceback": [
            "\u001b[0;31m---------------------------------------------------------------------------\u001b[0m",
            "\u001b[0;31mKeyboardInterrupt\u001b[0m                         Traceback (most recent call last)",
            "\u001b[0;32m<ipython-input-1-2eafaeabc8ea>\u001b[0m in \u001b[0;36m<cell line: 0>\u001b[0;34m()\u001b[0m\n\u001b[1;32m     45\u001b[0m \u001b[0;34m\u001b[0m\u001b[0m\n\u001b[1;32m     46\u001b[0m     \u001b[0mpygame\u001b[0m\u001b[0;34m.\u001b[0m\u001b[0mdisplay\u001b[0m\u001b[0;34m.\u001b[0m\u001b[0mflip\u001b[0m\u001b[0;34m(\u001b[0m\u001b[0;34m)\u001b[0m  \u001b[0;31m# Actualizar pantalla\u001b[0m\u001b[0;34m\u001b[0m\u001b[0;34m\u001b[0m\u001b[0m\n\u001b[0;32m---> 47\u001b[0;31m     \u001b[0mclock\u001b[0m\u001b[0;34m.\u001b[0m\u001b[0mtick\u001b[0m\u001b[0;34m(\u001b[0m\u001b[0;36m30\u001b[0m\u001b[0;34m)\u001b[0m  \u001b[0;31m# Controlar FPS\u001b[0m\u001b[0;34m\u001b[0m\u001b[0;34m\u001b[0m\u001b[0m\n\u001b[0m\u001b[1;32m     48\u001b[0m \u001b[0;34m\u001b[0m\u001b[0m\n\u001b[1;32m     49\u001b[0m \u001b[0mpygame\u001b[0m\u001b[0;34m.\u001b[0m\u001b[0mquit\u001b[0m\u001b[0;34m(\u001b[0m\u001b[0;34m)\u001b[0m  \u001b[0;31m# Cerrar Pygame\u001b[0m\u001b[0;34m\u001b[0m\u001b[0;34m\u001b[0m\u001b[0m\n",
            "\u001b[0;31mKeyboardInterrupt\u001b[0m: "
          ]
        }
      ]
    }
  ]
}